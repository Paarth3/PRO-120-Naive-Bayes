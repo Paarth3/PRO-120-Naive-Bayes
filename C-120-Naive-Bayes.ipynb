{
 "cells": [
  {
   "cell_type": "markdown",
   "metadata": {},
   "source": [
    "### Case-1 => Naive Bayes outperforms Logistic Regression"
   ]
  },
  {
   "cell_type": "code",
   "execution_count": 1,
   "metadata": {},
   "outputs": [],
   "source": [
    "import pandas as pd\n",
    "df = pd.read_csv(\"C:/Users/ADMIN/Desktop/WhiteHat_Jr/General/Data/Diabetes_2.csv\")"
   ]
  },
  {
   "cell_type": "code",
   "execution_count": 2,
   "metadata": {},
   "outputs": [
    {
     "name": "stdout",
     "output_type": "stream",
     "text": [
      "   glucose  bloodpressure  diabetes\n",
      "0       40             85         0\n",
      "1       40             92         0\n",
      "2       45             63         1\n",
      "3       45             80         0\n",
      "4       40             73         1\n"
     ]
    }
   ],
   "source": [
    "print(df.head())"
   ]
  },
  {
   "cell_type": "code",
   "execution_count": 3,
   "metadata": {},
   "outputs": [],
   "source": [
    "from sklearn.model_selection import train_test_split\n",
    "\n",
    "X = df[[\"glucose\",\"bloodpressure\"]]\n",
    "y = df[\"diabetes\"]\n",
    "x_train_1,x_test_1,y_train_1,y_test_1 = train_test_split(X,y,test_size=0.25,random_state=42)"
   ]
  },
  {
   "cell_type": "code",
   "execution_count": 4,
   "metadata": {},
   "outputs": [
    {
     "name": "stdout",
     "output_type": "stream",
     "text": [
      "Accuracy: 0.927710843373494\n"
     ]
    }
   ],
   "source": [
    "from sklearn.naive_bayes import GaussianNB\n",
    "from sklearn.metrics import accuracy_score\n",
    "from sklearn.preprocessing import StandardScaler\n",
    "\n",
    "sc = StandardScaler()\n",
    "x_train_1 = sc.fit_transform(x_train_1)\n",
    "x_test_1 = sc.transform(x_test_1)\n",
    "model_1 = GaussianNB()\n",
    "model_1.fit(x_train_1,y_train_1)\n",
    "\n",
    "y_pred_1 = model_1.predict(x_test_1)\n",
    "accuracy = accuracy_score(y_test_1,y_pred_1)\n",
    "print(\"Accuracy:\",accuracy)"
   ]
  },
  {
   "cell_type": "code",
   "execution_count": 5,
   "metadata": {},
   "outputs": [],
   "source": [
    "from sklearn.model_selection import train_test_split\n",
    "\n",
    "X = df[[\"glucose\",\"bloodpressure\"]]\n",
    "y = df[\"diabetes\"]\n",
    "x_train_2,x_test_2,y_train_2,y_test_2 = train_test_split(X,y,test_size=0.25,random_state=42)"
   ]
  },
  {
   "cell_type": "code",
   "execution_count": 6,
   "metadata": {},
   "outputs": [
    {
     "name": "stdout",
     "output_type": "stream",
     "text": [
      "Accuracy: 0.927710843373494\n"
     ]
    }
   ],
   "source": [
    "from sklearn.linear_model import LogisticRegression\n",
    "\n",
    "sc = StandardScaler()\n",
    "x_train_2 = sc.fit_transform(x_train_2)\n",
    "x_test_2 = sc.transform(x_test_2)\n",
    "model_2 = LogisticRegression(random_state=0)\n",
    "model_2.fit(x_train_2,y_train_2)\n",
    "\n",
    "y_pred_2 = model_2.predict(x_test_2)\n",
    "accuracy = accuracy_score(y_test_2,y_pred_2)\n",
    "print(\"Accuracy:\",accuracy)"
   ]
  },
  {
   "cell_type": "markdown",
   "metadata": {},
   "source": [
    "### Case-2 => Logistic Regression outperforms Naive Bayes"
   ]
  },
  {
   "cell_type": "code",
   "execution_count": 7,
   "metadata": {},
   "outputs": [
    {
     "name": "stdout",
     "output_type": "stream",
     "text": [
      "   age          workclass education_level  education-num       marital-status  \\\n",
      "0   39          State-gov       Bachelors           13.0        Never-married   \n",
      "1   50   Self-emp-not-inc       Bachelors           13.0   Married-civ-spouse   \n",
      "2   38            Private         HS-grad            9.0             Divorced   \n",
      "3   53            Private            11th            7.0   Married-civ-spouse   \n",
      "4   28            Private       Bachelors           13.0   Married-civ-spouse   \n",
      "\n",
      "           occupation    relationship    race      sex  capital-gain  \\\n",
      "0        Adm-clerical   Not-in-family   White     Male        2174.0   \n",
      "1     Exec-managerial         Husband   White     Male           0.0   \n",
      "2   Handlers-cleaners   Not-in-family   White     Male           0.0   \n",
      "3   Handlers-cleaners         Husband   Black     Male           0.0   \n",
      "4      Prof-specialty            Wife   Black   Female           0.0   \n",
      "\n",
      "   capital-loss  hours-per-week  native-country income  \n",
      "0           0.0            40.0   United-States  <=50K  \n",
      "1           0.0            13.0   United-States  <=50K  \n",
      "2           0.0            40.0   United-States  <=50K  \n",
      "3           0.0            40.0   United-States  <=50K  \n",
      "4           0.0            40.0            Cuba  <=50K  \n",
      "-----------------------------------------------------------------------------------------------------------\n",
      "                age  education-num  capital-gain  capital-loss  hours-per-week\n",
      "count  45222.000000   45222.000000  45222.000000  45222.000000    45222.000000\n",
      "mean      38.547941      10.118460   1101.430344     88.595418       40.938017\n",
      "std       13.217870       2.552881   7506.430084    404.956092       12.007508\n",
      "min       17.000000       1.000000      0.000000      0.000000        1.000000\n",
      "25%       28.000000       9.000000      0.000000      0.000000       40.000000\n",
      "50%       37.000000      10.000000      0.000000      0.000000       40.000000\n",
      "75%       47.000000      13.000000      0.000000      0.000000       45.000000\n",
      "max       90.000000      16.000000  99999.000000   4356.000000       99.000000\n"
     ]
    }
   ],
   "source": [
    "df = pd.read_csv(\"C:/Users/ADMIN/Desktop/WhiteHat_Jr/General/Data/Income.csv\")\n",
    "print(df.head())\n",
    "print(\"-----------------------------------------------------------------------------------------------------------\")\n",
    "print(df.describe())"
   ]
  },
  {
   "cell_type": "code",
   "execution_count": 8,
   "metadata": {},
   "outputs": [],
   "source": [
    "X = df[[\"age\",\"hours-per-week\",\"education-num\",\"capital-gain\",\"capital-loss\"]]\n",
    "y = df[\"income\"]\n",
    "x_train_1,x_test_1,y_train_1,y_test_1 = train_test_split(X,y,test_size=0.25,random_state=42)"
   ]
  },
  {
   "cell_type": "code",
   "execution_count": 9,
   "metadata": {},
   "outputs": [
    {
     "name": "stdout",
     "output_type": "stream",
     "text": [
      "Accuracy: 0.7892269591367416\n"
     ]
    }
   ],
   "source": [
    "sc = StandardScaler()\n",
    "x_train_1 = sc.fit_transform(x_train_1)\n",
    "x_test_1 = sc.transform(x_test_1)\n",
    "model_1 = GaussianNB()\n",
    "model_1.fit(x_train_1,y_train_1)\n",
    "\n",
    "y_pred_1 = model_1.predict(x_test_1)\n",
    "accuracy = accuracy_score(y_test_1,y_pred_1)\n",
    "print(\"Accuracy:\",accuracy)"
   ]
  },
  {
   "cell_type": "code",
   "execution_count": 12,
   "metadata": {},
   "outputs": [
    {
     "name": "stdout",
     "output_type": "stream",
     "text": [
      "Accuracy: 0.8116044578100123\n"
     ]
    }
   ],
   "source": [
    "x_train_2,x_test_2,y_train_2,y_test_2 = train_test_split(X,y,test_size=0.25,random_state=42)\n",
    "\n",
    "sc = StandardScaler()\n",
    "x_train_2 = sc.fit_transform(x_train_2)\n",
    "x_test_2 = sc.transform(x_test_2)\n",
    "model_2 = LogisticRegression(random_state=0)\n",
    "model_2.fit(x_train_2,y_train_2)\n",
    "\n",
    "y_pred_2 = model_2.predict(x_test_2)\n",
    "accuracy = accuracy_score(y_test_2,y_pred_2)\n",
    "print(\"Accuracy:\",accuracy)"
   ]
  }
 ],
 "metadata": {
  "kernelspec": {
   "display_name": "Python 3.10.5 64-bit",
   "language": "python",
   "name": "python3"
  },
  "language_info": {
   "codemirror_mode": {
    "name": "ipython",
    "version": 3
   },
   "file_extension": ".py",
   "mimetype": "text/x-python",
   "name": "python",
   "nbconvert_exporter": "python",
   "pygments_lexer": "ipython3",
   "version": "3.10.5"
  },
  "orig_nbformat": 4,
  "vscode": {
   "interpreter": {
    "hash": "31671a60cee805c34c73116577b485118ff3a75c458d3004d49632c19702ac60"
   }
  }
 },
 "nbformat": 4,
 "nbformat_minor": 2
}
